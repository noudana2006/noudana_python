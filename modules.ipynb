{
 "cells": [
  {
   "cell_type": "code",
   "execution_count": 2,
   "metadata": {},
   "outputs": [],
   "source": [
    "import doc\n"
   ]
  },
  {
   "cell_type": "code",
   "execution_count": 3,
   "metadata": {},
   "outputs": [
    {
     "data": {
      "text/plain": [
       "78.53981633974483"
      ]
     },
     "execution_count": 3,
     "metadata": {},
     "output_type": "execute_result"
    }
   ],
   "source": [
    "doc.circle(5)"
   ]
  },
  {
   "cell_type": "code",
   "execution_count": 4,
   "metadata": {},
   "outputs": [
    {
     "data": {
      "text/plain": [
       "200"
      ]
     },
     "execution_count": 4,
     "metadata": {},
     "output_type": "execute_result"
    }
   ],
   "source": [
    "doc.rectangle(10,20)"
   ]
  },
  {
   "cell_type": "code",
   "execution_count": 5,
   "metadata": {},
   "outputs": [],
   "source": [
    "import doc as ab"
   ]
  },
  {
   "cell_type": "code",
   "execution_count": 6,
   "metadata": {},
   "outputs": [
    {
     "data": {
      "text/plain": [
       "314.1592653589793"
      ]
     },
     "execution_count": 6,
     "metadata": {},
     "output_type": "execute_result"
    }
   ],
   "source": [
    "ab.circle(10)"
   ]
  },
  {
   "cell_type": "code",
   "execution_count": 7,
   "metadata": {},
   "outputs": [],
   "source": [
    "from doc import circle"
   ]
  },
  {
   "cell_type": "code",
   "execution_count": 8,
   "metadata": {},
   "outputs": [
    {
     "data": {
      "text/plain": [
       "314.1592653589793"
      ]
     },
     "execution_count": 8,
     "metadata": {},
     "output_type": "execute_result"
    }
   ],
   "source": [
    "doc.circle(10)"
   ]
  },
  {
   "cell_type": "code",
   "execution_count": 9,
   "metadata": {},
   "outputs": [
    {
     "name": "stdout",
     "output_type": "stream",
     "text": [
      "Help on module doc:\n",
      "\n",
      "NAME\n",
      "    doc\n",
      "\n",
      "FUNCTIONS\n",
      "    circle(radius)\n",
      "        To find the area of the circle\n",
      "        circle(radius)\n",
      "        radius - enter the radius of the circle\n",
      "    \n",
      "    rectangle(length, breath)\n",
      "        To find the area of the Rectangle\n",
      "        rectangle(length, breath)\n",
      "        length - enter the length of the rectangle\n",
      "        breath - enter the breath of the rectangle\n",
      "\n",
      "FILE\n",
      "    /home/student/Documents/noudana python/math.py/doc.py\n",
      "\n",
      "\n"
     ]
    }
   ],
   "source": [
    "help(doc)"
   ]
  },
  {
   "cell_type": "code",
   "execution_count": 10,
   "metadata": {},
   "outputs": [],
   "source": [
    "class amazonAccount:\n",
    "    message = 'welcome to amazon'"
   ]
  },
  {
   "cell_type": "code",
   "execution_count": 11,
   "metadata": {},
   "outputs": [],
   "source": [
    "parthiban = amazonAccount()\n",
    "ragul = amazonAccount()\n"
   ]
  },
  {
   "cell_type": "code",
   "execution_count": 12,
   "metadata": {},
   "outputs": [
    {
     "data": {
      "text/plain": [
       "'welcome to amazon'"
      ]
     },
     "execution_count": 12,
     "metadata": {},
     "output_type": "execute_result"
    }
   ],
   "source": [
    "parthiban.message"
   ]
  },
  {
   "cell_type": "code",
   "execution_count": 13,
   "metadata": {},
   "outputs": [
    {
     "data": {
      "text/plain": [
       "'welcome to amazon'"
      ]
     },
     "execution_count": 13,
     "metadata": {},
     "output_type": "execute_result"
    }
   ],
   "source": [
    "ragul.message"
   ]
  },
  {
   "cell_type": "code",
   "execution_count": null,
   "metadata": {},
   "outputs": [
    {
     "name": "stdout",
     "output_type": "stream",
     "text": [
      "1\n",
      "12\n",
      "123\n",
      "1234\n"
     ]
    }
   ],
   "source": [
    "n = int(input(\"enter the number of rows:\"))\n",
    "for i in range(1,n+1):\n",
    "    for j in range(1,i+1):\n",
    "        print(j,end=\"\")\n",
    "    print()"
   ]
  },
  {
   "cell_type": "code",
   "execution_count": null,
   "metadata": {},
   "outputs": [
    {
     "name": "stdout",
     "output_type": "stream",
     "text": [
      "1\n",
      "22\n",
      "333\n",
      "4444\n",
      "55555\n"
     ]
    }
   ],
   "source": [
    "for r in range(0, 5):\n",
    "    for c in range(0,r+1):\n",
    "        print(r+1,end='')\n",
    "    print()"
   ]
  },
  {
   "cell_type": "code",
   "execution_count": null,
   "metadata": {},
   "outputs": [],
   "source": [
    "class amazonAccount:\n",
    "    def __init__(self):\n",
    "        print(f'object Created')\n",
    "\n",
    "    def __del__(self):\n",
    "        print('object Deleted')"
   ]
  },
  {
   "cell_type": "code",
   "execution_count": null,
   "metadata": {},
   "outputs": [
    {
     "name": "stdout",
     "output_type": "stream",
     "text": [
      "object Created\n"
     ]
    }
   ],
   "source": [
    "parthiban = amazonAccount()"
   ]
  },
  {
   "cell_type": "code",
   "execution_count": null,
   "metadata": {},
   "outputs": [
    {
     "name": "stdout",
     "output_type": "stream",
     "text": [
      "object Deleted\n"
     ]
    }
   ],
   "source": [
    "del parthiban"
   ]
  },
  {
   "cell_type": "code",
   "execution_count": null,
   "metadata": {},
   "outputs": [],
   "source": [
    "class amazonAccount:\n",
    "    message = 'welcome to amazon'\n",
    "    __default_delivery = 7\n",
    "    def __init__(self, name, mail):\n",
    "        self.name = name\n",
    "        self.__mail = mail\n",
    "        print(f'Hello {self.name}!\\n{self.massage}')"
   ]
  },
  {
   "cell_type": "code",
   "execution_count": null,
   "metadata": {},
   "outputs": [],
   "source": [
    "class amazonAccount:\n",
    "    __default_deliveri = 7\n",
    "    welcomemessage = 'welcome to amazon Account'\n",
    "    def __init__(self, name, mobile, email):\n",
    "        self.name=name\n",
    "        self.mobile=mobile\n",
    "        self.email=email\n",
    "    def shopping(self,item):\n",
    "        print(f'{self.name} bought {item}')\n",
    "    def delivery(self):\n",
    "        print(f'your order will be deliverd in {self.__default_delivery}')\n",
    "    def __deactivate_account(self):\n",
    "        print(f'{self.name} account deactivate successfully')"
   ]
  },
  {
   "cell_type": "code",
   "execution_count": null,
   "metadata": {},
   "outputs": [],
   "source": [
    "parthiban = amazonAccount('parthi', 3867452909, 'parthi@gmail.com')"
   ]
  },
  {
   "cell_type": "code",
   "execution_count": null,
   "metadata": {},
   "outputs": [
    {
     "name": "stdout",
     "output_type": "stream",
     "text": [
      "parthi bought iPhone\n"
     ]
    }
   ],
   "source": [
    "parthiban.shopping('iPhone')"
   ]
  },
  {
   "cell_type": "code",
   "execution_count": null,
   "metadata": {},
   "outputs": [],
   "source": [
    "class standard_account:\n",
    "    __default_delivery = 7\n",
    "    welcomeMessage = 'welcome to Aatomz Account'\n",
    "    def __init__(self, name, mobile, email):\n",
    "        self.name = name\n",
    "        self.mobile = mobile\n",
    "        self.email = email\n",
    "        print(self.welcomeMessage)\n",
    "    def shopping(self, item):\n",
    "        print(f'{self.name} bought {item}')\n",
    "    def delivery(self):\n",
    "        print(f'your order will be deliverd in {self.__default_delivery}')"
   ]
  },
  {
   "cell_type": "code",
   "execution_count": null,
   "metadata": {},
   "outputs": [],
   "source": [
    "class premium_account(standard_account):\n",
    "    WelcomeMessage = 'Welcome to Aatomz **Prime** account'\n",
    "    def delivery(self):\n",
    "        premium_delivery = 1\n",
    "        print(f'''your order will be delivered\n",
    "              in {premium_delivery} days''')\n",
    "    def prime_video(self):\n",
    "        print('prime video Membership enabled')\n",
    "    def cancel_mambership(self):\n",
    "        print(f'{self.name} Successfully cancelled the membership')"
   ]
  },
  {
   "cell_type": "code",
   "execution_count": 22,
   "metadata": {},
   "outputs": [
    {
     "ename": "NameError",
     "evalue": "name 'standard_account' is not defined",
     "output_type": "error",
     "traceback": [
      "\u001b[0;31m---------------------------------------------------------------------------\u001b[0m",
      "\u001b[0;31mNameError\u001b[0m                                 Traceback (most recent call last)",
      "Cell \u001b[0;32mIn[22], line 1\u001b[0m\n\u001b[0;32m----> 1\u001b[0m myaccount \u001b[38;5;241m=\u001b[39m \u001b[43mstandard_account\u001b[49m(\u001b[38;5;124m'\u001b[39m\u001b[38;5;124mparthiban\u001b[39m\u001b[38;5;124m'\u001b[39m, \u001b[38;5;124m'\u001b[39m\u001b[38;5;124m5643887690\u001b[39m\u001b[38;5;124m'\u001b[39m, \u001b[38;5;124m'\u001b[39m\u001b[38;5;124mparthiban@gmail.com\u001b[39m\u001b[38;5;124m'\u001b[39m)\n\u001b[1;32m      2\u001b[0m \u001b[38;5;66;03m# data Members\u001b[39;00m\n\u001b[1;32m      3\u001b[0m myaccount\u001b[38;5;241m.\u001b[39mname\n",
      "\u001b[0;31mNameError\u001b[0m: name 'standard_account' is not defined"
     ]
    }
   ],
   "source": [
    "myaccount = standard_account('parthiban', '5643887690', 'parthiban@gmail.com')\n",
    "# data Members\n",
    "myaccount.name"
   ]
  },
  {
   "cell_type": "code",
   "execution_count": null,
   "metadata": {},
   "outputs": [
    {
     "name": "stdout",
     "output_type": "stream",
     "text": [
      "welcome to Aatomz Account\n"
     ]
    },
    {
     "data": {
      "text/plain": [
       "'parthiban'"
      ]
     },
     "execution_count": 49,
     "metadata": {},
     "output_type": "execute_result"
    }
   ],
   "source": [
    "myAccount = standard_account('parthiban', '8765597340', 'parthiban@gmail.com')\n",
    "myAccount.name"
   ]
  },
  {
   "cell_type": "code",
   "execution_count": null,
   "metadata": {},
   "outputs": [
    {
     "name": "stdout",
     "output_type": "stream",
     "text": [
      "welcome to Aatomz Account\n"
     ]
    },
    {
     "data": {
      "text/plain": [
       "'parthiban'"
      ]
     },
     "execution_count": 50,
     "metadata": {},
     "output_type": "execute_result"
    }
   ],
   "source": [
    "mypremiumAccount = premium_account('parthiban', '8876594320', 'parthiban@gmail.com.com')\n",
    "mypremiumAccount.name"
   ]
  },
  {
   "cell_type": "code",
   "execution_count": null,
   "metadata": {},
   "outputs": [
    {
     "name": "stdout",
     "output_type": "stream",
     "text": [
      "your order will be delivered\n",
      "              in 1 days\n"
     ]
    }
   ],
   "source": [
    "mypremiumAccount.delivery()"
   ]
  },
  {
   "cell_type": "code",
   "execution_count": null,
   "metadata": {},
   "outputs": [
    {
     "name": "stdout",
     "output_type": "stream",
     "text": [
      "parthiban bought iPhone\n"
     ]
    }
   ],
   "source": [
    "mypremiumAccount.shopping('iPhone')"
   ]
  },
  {
   "cell_type": "code",
   "execution_count": null,
   "metadata": {},
   "outputs": [
    {
     "name": "stdout",
     "output_type": "stream",
     "text": [
      "prime video Membership enabled\n"
     ]
    }
   ],
   "source": [
    "mypremiumAccount.prime_video()"
   ]
  },
  {
   "cell_type": "code",
   "execution_count": 28,
   "metadata": {},
   "outputs": [
    {
     "ename": "NameError",
     "evalue": "name 'mypremiumAccount' is not defined",
     "output_type": "error",
     "traceback": [
      "\u001b[0;31m---------------------------------------------------------------------------\u001b[0m",
      "\u001b[0;31mNameError\u001b[0m                                 Traceback (most recent call last)",
      "Cell \u001b[0;32mIn[28], line 1\u001b[0m\n\u001b[0;32m----> 1\u001b[0m \u001b[43mmypremiumAccount\u001b[49m\u001b[38;5;241m.\u001b[39mdeactivate_account\n",
      "\u001b[0;31mNameError\u001b[0m: name 'mypremiumAccount' is not defined"
     ]
    }
   ],
   "source": [
    "mypremiumAccount.deactivate_account"
   ]
  },
  {
   "cell_type": "code",
   "execution_count": 12,
   "metadata": {},
   "outputs": [
    {
     "name": "stdout",
     "output_type": "stream",
     "text": [
      "\n",
      "1\n",
      "12\n",
      "123\n",
      "1234\n"
     ]
    }
   ],
   "source": [
    "for i in range (1, 6):\n",
    "    for j in range(1, i):\n",
    "\n",
    "        print(j, end = '')\n",
    "    print()"
   ]
  },
  {
   "cell_type": "code",
   "execution_count": 13,
   "metadata": {},
   "outputs": [
    {
     "name": "stdout",
     "output_type": "stream",
     "text": [
      "2006 is not a leap year\n"
     ]
    }
   ],
   "source": [
    "year = int(input(\"Enter  valid year :\"))\n",
    "if year % 400 == 0:\n",
    "    if year % 400 == 0 or year % 100 != 0:\n",
    "        print(year,\"is not a leap year\")\n",
    "    else:\n",
    "        print(year,\"is not a leap year\")\n",
    "else:\n",
    "    print(year,\"is not a leap year\")\n"
   ]
  },
  {
   "cell_type": "code",
   "execution_count": 18,
   "metadata": {},
   "outputs": [],
   "source": [
    "class student:\n",
    "    def getdata(name, roleno, m1, m2, age):\n",
    "        self.name = name\n",
    "        self.roleno = roleno\n",
    "        self.m1 = m1\n",
    "        self.m2 = m2\n",
    "        self.__age = age\n",
    "    def disp(self):\n",
    "        print('name is:',self.name)\n",
    "        print('roleno is:',self.roleno)\n",
    "        print('m1 is:',self.m1)\n",
    "        print('m2 is:',self.m2)\n",
    "        print('age is:',self__age)"
   ]
  },
  {
   "cell_type": "code",
   "execution_count": 19,
   "metadata": {},
   "outputs": [
    {
     "ename": "TypeError",
     "evalue": "student.getdata() takes 5 positional arguments but 6 were given",
     "output_type": "error",
     "traceback": [
      "\u001b[0;31m---------------------------------------------------------------------------\u001b[0m",
      "\u001b[0;31mTypeError\u001b[0m                                 Traceback (most recent call last)",
      "Cell \u001b[0;32mIn[19], line 2\u001b[0m\n\u001b[1;32m      1\u001b[0m s \u001b[38;5;241m=\u001b[39m student()\n\u001b[0;32m----> 2\u001b[0m \u001b[43ms\u001b[49m\u001b[38;5;241;43m.\u001b[39;49m\u001b[43mgetdata\u001b[49m\u001b[43m(\u001b[49m\u001b[38;5;124;43m'\u001b[39;49m\u001b[38;5;124;43mnoudana\u001b[39;49m\u001b[38;5;124;43m'\u001b[39;49m\u001b[43m,\u001b[49m\u001b[38;5;241;43m100\u001b[39;49m\u001b[43m,\u001b[49m\u001b[43m \u001b[49m\u001b[38;5;241;43m78\u001b[39;49m\u001b[43m,\u001b[49m\u001b[43m \u001b[49m\u001b[38;5;241;43m99\u001b[39;49m\u001b[43m,\u001b[49m\u001b[43m \u001b[49m\u001b[38;5;241;43m17\u001b[39;49m\u001b[43m)\u001b[49m\n\u001b[1;32m      3\u001b[0m s\u001b[38;5;241m.\u001b[39mdisp()\n",
      "\u001b[0;31mTypeError\u001b[0m: student.getdata() takes 5 positional arguments but 6 were given"
     ]
    }
   ],
   "source": [
    "s = student()\n",
    "s.getdata('noudana',100, 78, 99, 17)\n",
    "s.disp()"
   ]
  },
  {
   "cell_type": "code",
   "execution_count": null,
   "metadata": {},
   "outputs": [],
   "source": []
  }
 ],
 "metadata": {
  "kernelspec": {
   "display_name": ".venv",
   "language": "python",
   "name": "python3"
  },
  "language_info": {
   "codemirror_mode": {
    "name": "ipython",
    "version": 3
   },
   "file_extension": ".py",
   "mimetype": "text/x-python",
   "name": "python",
   "nbconvert_exporter": "python",
   "pygments_lexer": "ipython3",
   "version": "3.10.12"
  }
 },
 "nbformat": 4,
 "nbformat_minor": 2
}
