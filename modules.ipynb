{
 "cells": [
  {
   "cell_type": "code",
   "execution_count": 1,
   "metadata": {},
   "outputs": [],
   "source": [
    "import doc\n"
   ]
  },
  {
   "cell_type": "code",
   "execution_count": 2,
   "metadata": {},
   "outputs": [
    {
     "data": {
      "text/plain": [
       "78.53981633974483"
      ]
     },
     "execution_count": 2,
     "metadata": {},
     "output_type": "execute_result"
    }
   ],
   "source": [
    "doc.circle(5)"
   ]
  },
  {
   "cell_type": "code",
   "execution_count": 3,
   "metadata": {},
   "outputs": [
    {
     "data": {
      "text/plain": [
       "200"
      ]
     },
     "execution_count": 3,
     "metadata": {},
     "output_type": "execute_result"
    }
   ],
   "source": [
    "doc.rectangle(10,20)"
   ]
  },
  {
   "cell_type": "code",
   "execution_count": 4,
   "metadata": {},
   "outputs": [],
   "source": [
    "import doc as ab"
   ]
  },
  {
   "cell_type": "code",
   "execution_count": 8,
   "metadata": {},
   "outputs": [
    {
     "data": {
      "text/plain": [
       "314.1592653589793"
      ]
     },
     "execution_count": 8,
     "metadata": {},
     "output_type": "execute_result"
    }
   ],
   "source": [
    "ab.circle(10)"
   ]
  },
  {
   "cell_type": "code",
   "execution_count": 9,
   "metadata": {},
   "outputs": [],
   "source": [
    "from doc import circle"
   ]
  },
  {
   "cell_type": "code",
   "execution_count": 12,
   "metadata": {},
   "outputs": [
    {
     "data": {
      "text/plain": [
       "314.1592653589793"
      ]
     },
     "execution_count": 12,
     "metadata": {},
     "output_type": "execute_result"
    }
   ],
   "source": [
    "doc.circle(10)"
   ]
  },
  {
   "cell_type": "code",
   "execution_count": 13,
   "metadata": {},
   "outputs": [
    {
     "name": "stdout",
     "output_type": "stream",
     "text": [
      "Help on module doc:\n",
      "\n",
      "NAME\n",
      "    doc\n",
      "\n",
      "FUNCTIONS\n",
      "    circle(radius)\n",
      "        To find the area of the circle\n",
      "        circle(radius)\n",
      "        radius - enter the radius of the circle\n",
      "    \n",
      "    rectangle(length, breath)\n",
      "        To find the area of the Rectangle\n",
      "        rectangle(length, breath)\n",
      "        length - enter the length of the rectangle\n",
      "        breath - enter the breath of the rectangle\n",
      "\n",
      "FILE\n",
      "    /home/student/Documents/noudana python/math.py/doc.py\n",
      "\n",
      "\n"
     ]
    }
   ],
   "source": [
    "help(doc)"
   ]
  },
  {
   "cell_type": "code",
   "execution_count": 14,
   "metadata": {},
   "outputs": [],
   "source": [
    "class amazonAccount:\n",
    "    message = 'welcome to amazon'"
   ]
  },
  {
   "cell_type": "code",
   "execution_count": 15,
   "metadata": {},
   "outputs": [],
   "source": [
    "parthiban = amazonAccount()\n",
    "ragul = amazonAccount()\n"
   ]
  },
  {
   "cell_type": "code",
   "execution_count": 17,
   "metadata": {},
   "outputs": [
    {
     "data": {
      "text/plain": [
       "'welcome to amazon'"
      ]
     },
     "execution_count": 17,
     "metadata": {},
     "output_type": "execute_result"
    }
   ],
   "source": [
    "parthiban.message"
   ]
  },
  {
   "cell_type": "code",
   "execution_count": 18,
   "metadata": {},
   "outputs": [
    {
     "data": {
      "text/plain": [
       "'welcome to amazon'"
      ]
     },
     "execution_count": 18,
     "metadata": {},
     "output_type": "execute_result"
    }
   ],
   "source": [
    "ragul.message"
   ]
  },
  {
   "cell_type": "code",
   "execution_count": 1,
   "metadata": {},
   "outputs": [
    {
     "name": "stdout",
     "output_type": "stream",
     "text": [
      "1\n",
      "12\n",
      "123\n",
      "1234\n"
     ]
    }
   ],
   "source": [
    "n = int(input(\"enter the number of rows:\"))\n",
    "for i in range(1,n+1):\n",
    "    for j in range(1,i+1):\n",
    "        print(j,end=\"\")\n",
    "    print()"
   ]
  },
  {
   "cell_type": "code",
   "execution_count": 2,
   "metadata": {},
   "outputs": [
    {
     "name": "stdout",
     "output_type": "stream",
     "text": [
      "1\n",
      "22\n",
      "333\n",
      "4444\n",
      "55555\n"
     ]
    }
   ],
   "source": [
    "for r in range(0, 5):\n",
    "    for c in range(0,r+1):\n",
    "        print(r+1,end='')\n",
    "    print()"
   ]
  },
  {
   "cell_type": "code",
   "execution_count": 6,
   "metadata": {},
   "outputs": [],
   "source": [
    "class amazonAccount:\n",
    "    def __init__(self):\n",
    "        print(f'object Created')\n",
    "\n",
    "    def __del__(self):\n",
    "        print('object Deleted')"
   ]
  },
  {
   "cell_type": "code",
   "execution_count": 7,
   "metadata": {},
   "outputs": [
    {
     "name": "stdout",
     "output_type": "stream",
     "text": [
      "object Created\n"
     ]
    }
   ],
   "source": [
    "parthiban = amazonAccount()"
   ]
  },
  {
   "cell_type": "code",
   "execution_count": 8,
   "metadata": {},
   "outputs": [
    {
     "name": "stdout",
     "output_type": "stream",
     "text": [
      "object Deleted\n"
     ]
    }
   ],
   "source": [
    "del parthiban"
   ]
  },
  {
   "cell_type": "code",
   "execution_count": 20,
   "metadata": {},
   "outputs": [],
   "source": [
    "class amazonAccount:\n",
    "    message = 'welcome to amazon'\n",
    "    __default_delivery = 7\n",
    "    def __init__(self, name, mail):\n",
    "        self.name = name\n",
    "        self.__mail = mail\n",
    "        print(f'Hello {self.name}!\\n{self.massage}')"
   ]
  },
  {
   "cell_type": "code",
   "execution_count": 22,
   "metadata": {},
   "outputs": [],
   "source": [
    "class amazonAccount:\n",
    "    __default_deliveri = 7\n",
    "    welcomemessage = 'welcome to amazon Account'\n",
    "    def __init__(self, name, mobile, email):\n",
    "        self.name=name\n",
    "        self.mobile=mobile\n",
    "        self.email=email\n",
    "    def shopping(self,item):\n",
    "        print(f'{self.name} bought {item}')\n",
    "    def delivery(self):\n",
    "        print(f'your order will be deliverd in {self.__default_delivery}')\n",
    "    def __deactivate_account(self):\n",
    "        print(f'{self.name} account deactivate successfully')"
   ]
  },
  {
   "cell_type": "code",
   "execution_count": 27,
   "metadata": {},
   "outputs": [],
   "source": [
    "parthiban = amazonAccount('parthi', 3867452909, 'parthi@gmail.com')"
   ]
  },
  {
   "cell_type": "code",
   "execution_count": 28,
   "metadata": {},
   "outputs": [
    {
     "name": "stdout",
     "output_type": "stream",
     "text": [
      "parthi bought iPhone\n"
     ]
    }
   ],
   "source": [
    "parthiban.shopping('iPhone')"
   ]
  },
  {
   "cell_type": "code",
   "execution_count": 38,
   "metadata": {},
   "outputs": [],
   "source": [
    "class standard_account:\n",
    "    __default_delivery = 7\n",
    "    welcomeMessage = 'welcome to Aatomz Account'\n",
    "    def __init__(self, name, mobile, email):\n",
    "        self.name = name\n",
    "        self.mobile = mobile\n",
    "        self.email = email\n",
    "        print(self.welcomeMessage)\n",
    "    def shopping(self, item):\n",
    "        print(f'{self.name} bought {item}')\n",
    "    def delivery(self):\n",
    "        print(f'your order will be deliverd in {self.__default_delivery}')"
   ]
  },
  {
   "cell_type": "code",
   "execution_count": 40,
   "metadata": {},
   "outputs": [],
   "source": [
    "class premium_account(standard_account):\n",
    "    WelcomeMessage = 'Welcome to Aatomz **Prime** account'\n",
    "    def delivery(self):\n",
    "        premium_delivery = 1\n",
    "        print(f'''your order will be delivered\n",
    "              in {premium_delivery} days''')\n",
    "    def prime_video(self):\n",
    "        print('prime video Membership enabled')\n",
    "    def cancel_mambership(self):\n",
    "        print(f'{self.name} Successfully cancelled the membership')"
   ]
  },
  {
   "cell_type": "code",
   "execution_count": 42,
   "metadata": {},
   "outputs": [
    {
     "name": "stdout",
     "output_type": "stream",
     "text": [
      "welcome to Aatomz Account\n"
     ]
    },
    {
     "data": {
      "text/plain": [
       "'parthiban'"
      ]
     },
     "execution_count": 42,
     "metadata": {},
     "output_type": "execute_result"
    }
   ],
   "source": [
    "myAccount = standard_account('parthiban', '5643887690', 'parthiban@aatomz.com')\n",
    "myAccount.name"
   ]
  },
  {
   "cell_type": "code",
   "execution_count": 43,
   "metadata": {},
   "outputs": [
    {
     "name": "stdout",
     "output_type": "stream",
     "text": [
      "your order will be deliverd in 7\n",
      "parthiban bought iPhone\n"
     ]
    },
    {
     "ename": "AttributeError",
     "evalue": "'standard_account' object has no attribute 'deactivate_account'",
     "output_type": "error",
     "traceback": [
      "\u001b[0;31m---------------------------------------------------------------------------\u001b[0m",
      "\u001b[0;31mAttributeError\u001b[0m                            Traceback (most recent call last)",
      "Cell \u001b[0;32mIn[43], line 3\u001b[0m\n\u001b[1;32m      1\u001b[0m myAccount\u001b[38;5;241m.\u001b[39mdelivery()\n\u001b[1;32m      2\u001b[0m myAccount\u001b[38;5;241m.\u001b[39mshopping(\u001b[38;5;124m'\u001b[39m\u001b[38;5;124miPhone\u001b[39m\u001b[38;5;124m'\u001b[39m)\n\u001b[0;32m----> 3\u001b[0m \u001b[43mmyAccount\u001b[49m\u001b[38;5;241;43m.\u001b[39;49m\u001b[43mdeactivate_account\u001b[49m()\n",
      "\u001b[0;31mAttributeError\u001b[0m: 'standard_account' object has no attribute 'deactivate_account'"
     ]
    }
   ],
   "source": [
    "myAccount.delivery()\n",
    "myAccount.shopping('iPhone')\n",
    "myAccount.deactivate_account()"
   ]
  },
  {
   "cell_type": "code",
   "execution_count": 49,
   "metadata": {},
   "outputs": [
    {
     "name": "stdout",
     "output_type": "stream",
     "text": [
      "welcome to Aatomz Account\n"
     ]
    },
    {
     "data": {
      "text/plain": [
       "'parthiban'"
      ]
     },
     "execution_count": 49,
     "metadata": {},
     "output_type": "execute_result"
    }
   ],
   "source": [
    "myAccount = standard_account('parthiban', '8765597340', 'parthiban@gmail.com')\n",
    "myAccount.name"
   ]
  },
  {
   "cell_type": "code",
   "execution_count": 50,
   "metadata": {},
   "outputs": [
    {
     "name": "stdout",
     "output_type": "stream",
     "text": [
      "welcome to Aatomz Account\n"
     ]
    },
    {
     "data": {
      "text/plain": [
       "'parthiban'"
      ]
     },
     "execution_count": 50,
     "metadata": {},
     "output_type": "execute_result"
    }
   ],
   "source": [
    "mypremiumAccount = premium_account('parthiban', '8876594320', 'parthiban@gmail.com.com')\n",
    "mypremiumAccount.name"
   ]
  },
  {
   "cell_type": "code",
   "execution_count": 51,
   "metadata": {},
   "outputs": [
    {
     "name": "stdout",
     "output_type": "stream",
     "text": [
      "your order will be delivered\n",
      "              in 1 days\n"
     ]
    }
   ],
   "source": [
    "mypremiumAccount.delivery()"
   ]
  },
  {
   "cell_type": "code",
   "execution_count": 52,
   "metadata": {},
   "outputs": [
    {
     "name": "stdout",
     "output_type": "stream",
     "text": [
      "parthiban bought iPhone\n"
     ]
    }
   ],
   "source": [
    "mypremiumAccount.shopping('iPhone')"
   ]
  },
  {
   "cell_type": "code",
   "execution_count": 53,
   "metadata": {},
   "outputs": [
    {
     "name": "stdout",
     "output_type": "stream",
     "text": [
      "prime video Membership enabled\n"
     ]
    }
   ],
   "source": [
    "mypremiumAccount.prime_video()"
   ]
  },
  {
   "cell_type": "code",
   "execution_count": 55,
   "metadata": {},
   "outputs": [
    {
     "ename": "NameError",
     "evalue": "name 'myPremiumAccount' is not defined",
     "output_type": "error",
     "traceback": [
      "\u001b[0;31m---------------------------------------------------------------------------\u001b[0m",
      "\u001b[0;31mNameError\u001b[0m                                 Traceback (most recent call last)",
      "Cell \u001b[0;32mIn[55], line 1\u001b[0m\n\u001b[0;32m----> 1\u001b[0m \u001b[43mmyPremiumAccount\u001b[49m\u001b[38;5;241m.\u001b[39mdeactivate_account()\n",
      "\u001b[0;31mNameError\u001b[0m: name 'myPremiumAccount' is not defined"
     ]
    }
   ],
   "source": [
    "myPremiumAccount.deactivate_account()"
   ]
  },
  {
   "cell_type": "code",
   "execution_count": 60,
   "metadata": {},
   "outputs": [
    {
     "ename": "SyntaxError",
     "evalue": "invalid syntax (3643897666.py, line 1)",
     "output_type": "error",
     "traceback": [
      "\u001b[0;36m  Cell \u001b[0;32mIn[60], line 1\u001b[0;36m\u001b[0m\n\u001b[0;31m    my premiumaccount.cancel_Membership()\u001b[0m\n\u001b[0m       ^\u001b[0m\n\u001b[0;31mSyntaxError\u001b[0m\u001b[0;31m:\u001b[0m invalid syntax\n"
     ]
    }
   ],
   "source": [
    "my premiumaccount.cancel_Membership()"
   ]
  },
  {
   "cell_type": "code",
   "execution_count": null,
   "metadata": {},
   "outputs": [],
   "source": []
  }
 ],
 "metadata": {
  "kernelspec": {
   "display_name": ".venv",
   "language": "python",
   "name": "python3"
  },
  "language_info": {
   "codemirror_mode": {
    "name": "ipython",
    "version": 3
   },
   "file_extension": ".py",
   "mimetype": "text/x-python",
   "name": "python",
   "nbconvert_exporter": "python",
   "pygments_lexer": "ipython3",
   "version": "3.10.12"
  }
 },
 "nbformat": 4,
 "nbformat_minor": 2
}
