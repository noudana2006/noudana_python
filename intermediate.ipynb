{
 "cells": [
  {
   "cell_type": "code",
   "execution_count": 1,
   "metadata": {},
   "outputs": [
    {
     "data": {
      "text/plain": [
       "['cooke', 'pepsi', 'sprite', 'fanta', 'mirinda']"
      ]
     },
     "execution_count": 1,
     "metadata": {},
     "output_type": "execute_result"
    }
   ],
   "source": [
    "beverages = ['cooke', 'pepsi', 'sprite', 'fanta', 'mirinda']\n",
    "beverages"
   ]
  },
  {
   "cell_type": "code",
   "execution_count": 2,
   "metadata": {},
   "outputs": [
    {
     "name": "stdout",
     "output_type": "stream",
     "text": [
      "cooke\n",
      "pepsi\n",
      "sprite\n",
      "fanta\n",
      "mirinda\n"
     ]
    }
   ],
   "source": [
    "for beverage in beverages:\n",
    "    print (beverage)"
   ]
  },
  {
   "cell_type": "code",
   "execution_count": 3,
   "metadata": {},
   "outputs": [],
   "source": [
    "sentence = 'my name is billa!'"
   ]
  },
  {
   "cell_type": "code",
   "execution_count": 4,
   "metadata": {},
   "outputs": [
    {
     "name": "stdout",
     "output_type": "stream",
     "text": [
      "m\n",
      "y\n",
      " \n",
      "n\n",
      "a\n",
      "m\n",
      "e\n",
      " \n",
      "i\n",
      "s\n",
      " \n",
      "b\n",
      "i\n",
      "l\n",
      "l\n",
      "a\n",
      "!\n"
     ]
    }
   ],
   "source": [
    "for item in sentence:\n",
    "    print(item)"
   ]
  },
  {
   "cell_type": "code",
   "execution_count": 5,
   "metadata": {},
   "outputs": [
    {
     "data": {
      "text/plain": [
       "range(0, 5)"
      ]
     },
     "execution_count": 5,
     "metadata": {},
     "output_type": "execute_result"
    }
   ],
   "source": [
    "numbers = range(5)\n",
    "numbers"
   ]
  },
  {
   "cell_type": "code",
   "execution_count": 6,
   "metadata": {},
   "outputs": [
    {
     "name": "stdout",
     "output_type": "stream",
     "text": [
      "0\n",
      "1\n",
      "2\n",
      "3\n",
      "4\n"
     ]
    }
   ],
   "source": [
    "for numbers in numbers:\n",
    "    print(numbers)"
   ]
  },
  {
   "cell_type": "code",
   "execution_count": 7,
   "metadata": {},
   "outputs": [
    {
     "data": {
      "text/plain": [
       "range(6, 16)"
      ]
     },
     "execution_count": 7,
     "metadata": {},
     "output_type": "execute_result"
    }
   ],
   "source": [
    "numbers = range(6,16)\n",
    "numbers"
   ]
  },
  {
   "cell_type": "code",
   "execution_count": 8,
   "metadata": {},
   "outputs": [
    {
     "name": "stdout",
     "output_type": "stream",
     "text": [
      "6\n",
      "7\n",
      "8\n",
      "9\n",
      "10\n",
      "11\n",
      "12\n",
      "13\n",
      "14\n",
      "15\n"
     ]
    }
   ],
   "source": [
    "for numbers in numbers:\n",
    "    print(numbers)"
   ]
  },
  {
   "cell_type": "code",
   "execution_count": 9,
   "metadata": {},
   "outputs": [
    {
     "data": {
      "text/plain": [
       "range(1, 10, 3)"
      ]
     },
     "execution_count": 9,
     "metadata": {},
     "output_type": "execute_result"
    }
   ],
   "source": [
    "numbers = range(1, 10, 3)\n",
    "numbers"
   ]
  },
  {
   "cell_type": "code",
   "execution_count": 10,
   "metadata": {},
   "outputs": [
    {
     "name": "stdout",
     "output_type": "stream",
     "text": [
      "1\n",
      "4\n",
      "7\n"
     ]
    }
   ],
   "source": [
    "for numbers in numbers:\n",
    "    print(numbers)"
   ]
  },
  {
   "cell_type": "code",
   "execution_count": 1,
   "metadata": {},
   "outputs": [],
   "source": [
    "shopping_cart1 = ['charger', 'iphone', 'pencil', 'notebook']\n",
    "shopping_cart2 = ['headphone', '5.1speaker', 'carrom board']\n",
    "\n",
    "shopping_carts = [shopping_cart1, shopping_cart2]"
   ]
  },
  {
   "cell_type": "code",
   "execution_count": 3,
   "metadata": {},
   "outputs": [
    {
     "name": "stdout",
     "output_type": "stream",
     "text": [
      "charger\n",
      "iphone\n",
      "pencil\n",
      "notebook\n",
      "headphone\n",
      "5.1speaker\n",
      "carrom board\n"
     ]
    }
   ],
   "source": [
    "for items in shopping_carts:\n",
    "    for items in items:\n",
    "        print(items)"
   ]
  },
  {
   "cell_type": "code",
   "execution_count": 4,
   "metadata": {},
   "outputs": [],
   "source": [
    "beverages = ['pepsi', 'miranda', 'fanta', 'bovanta', 'coke', '7up']\n"
   ]
  },
  {
   "cell_type": "code",
   "execution_count": 5,
   "metadata": {},
   "outputs": [
    {
     "name": "stdout",
     "output_type": "stream",
     "text": [
      "pepsi\n",
      "miranda\n",
      "fanta\n",
      "fanta is available\n"
     ]
    }
   ],
   "source": [
    "count = 0\n",
    "while count<len(beverages):\n",
    "    print(beverages[count])\n",
    "    if beverages[count] == 'fanta':\n",
    "        print('fanta is available')\n",
    "        break\n",
    "    count +=1"
   ]
  },
  {
   "cell_type": "code",
   "execution_count": 13,
   "metadata": {},
   "outputs": [
    {
     "name": "stdout",
     "output_type": "stream",
     "text": [
      "a\n"
     ]
    }
   ],
   "source": [
    "for beverages in beverages:\n",
    "    print(beverages)\n",
    "    if beverages == 'fanta':\n",
    "        print('fanta is available')\n",
    "        break"
   ]
  },
  {
   "cell_type": "code",
   "execution_count": 14,
   "metadata": {},
   "outputs": [],
   "source": [
    "beverages = ['papsi', 'miranda', 'fanta', 'bovanta', 'coke', '7up']"
   ]
  },
  {
   "cell_type": "code",
   "execution_count": 18,
   "metadata": {},
   "outputs": [
    {
     "name": "stdout",
     "output_type": "stream",
     "text": [
      "buypapsi\n",
      "buymiranda\n",
      "buybovanta\n",
      "buycoke\n",
      "buy7up\n"
     ]
    }
   ],
   "source": [
    "count = 0\n",
    "while count<len(beverages):\n",
    "    if beverages[count] =='fanta':\n",
    "        count += 1\n",
    "        continue\n",
    "    \n",
    "    print(f'buy{beverages[count]}')\n",
    "    count +=1"
   ]
  },
  {
   "cell_type": "code",
   "execution_count": 22,
   "metadata": {},
   "outputs": [
    {
     "name": "stdout",
     "output_type": "stream",
     "text": [
      "buy p\n"
     ]
    }
   ],
   "source": [
    "for beverages in beverages:\n",
    "    if beverages == 'fanta':\n",
    "        continue\n",
    "    print(f'buy {beverages}')"
   ]
  },
  {
   "cell_type": "code",
   "execution_count": 25,
   "metadata": {},
   "outputs": [
    {
     "name": "stdout",
     "output_type": "stream",
     "text": [
      "books not available\n"
     ]
    }
   ],
   "source": [
    "books = ['tamil', 'english', 'maths']\n",
    "for books in books:\n",
    "    if books == 'marathi':\n",
    "        print('marathi book available')\n",
    "else:\n",
    "    print('books not available')"
   ]
  },
  {
   "cell_type": "code",
   "execution_count": 26,
   "metadata": {},
   "outputs": [
    {
     "name": "stdout",
     "output_type": "stream",
     "text": [
      "error occured\n",
      "operation done!\n"
     ]
    }
   ],
   "source": [
    "try:\n",
    "    if age<30:\n",
    "        print('youngster')\n",
    "except:\n",
    "    print('error occured')\n",
    "finally:\n",
    "    print('operation done!')"
   ]
  },
  {
   "cell_type": "code",
   "execution_count": 28,
   "metadata": {},
   "outputs": [
    {
     "name": "stdout",
     "output_type": "stream",
     "text": [
      "name not defined\n"
     ]
    }
   ],
   "source": [
    "try:\n",
    "    if age<30:\n",
    "        print('youngster')\n",
    "except NameError:\n",
    "    print('name not defined')\n",
    "except:\n",
    "    print('other error')"
   ]
  },
  {
   "cell_type": "code",
   "execution_count": 31,
   "metadata": {},
   "outputs": [
    {
     "name": "stdout",
     "output_type": "stream",
     "text": [
      "type not valid\n"
     ]
    }
   ],
   "source": [
    "age = input('enter your age:')\n",
    "try:\n",
    "    if age<30:\n",
    "        print('youngster')\n",
    "except NameError:\n",
    "    print('name not defined')\n",
    "except TypeError:\n",
    "    print('type not valid')\n",
    "except:\n",
    "    print('other error')"
   ]
  },
  {
   "cell_type": "code",
   "execution_count": 32,
   "metadata": {},
   "outputs": [
    {
     "name": "stdout",
     "output_type": "stream",
     "text": [
      "other error:\n",
      " '<' not supported between instances of 'str' and 'int'\n"
     ]
    }
   ],
   "source": [
    "age = input('enter your age:')\n",
    "try:\n",
    "    if age<30:\n",
    "        print('youngster')\n",
    "except NameError:\n",
    "    print('name not defined')\n",
    "except Exception as ex:\n",
    "    print(f'other error:\\n {ex}')"
   ]
  },
  {
   "cell_type": "code",
   "execution_count": 33,
   "metadata": {},
   "outputs": [],
   "source": [
    "file = open('variablz.txt', 'x')"
   ]
  },
  {
   "cell_type": "code",
   "execution_count": 34,
   "metadata": {},
   "outputs": [],
   "source": [
    "file = open('variablz.txt', 'w')\n",
    "file.write('''\n",
    "hi\n",
    "i am that new variablz file\n",
    "this is writing example..\n",
    "''')\n",
    "file.close()"
   ]
  },
  {
   "cell_type": "code",
   "execution_count": 35,
   "metadata": {},
   "outputs": [],
   "source": [
    "file = open('students.csv', 'w')\n",
    "file.write(''' \n",
    "s.no, course, duration, fee\n",
    "1, python, 30, 6000\n",
    "2, java, 30, 6000\n",
    "3, sql, 30, 6000\n",
    "''')\n",
    "file.close()"
   ]
  },
  {
   "cell_type": "code",
   "execution_count": 36,
   "metadata": {},
   "outputs": [
    {
     "data": {
      "text/plain": [
       "75"
      ]
     },
     "execution_count": 36,
     "metadata": {},
     "output_type": "execute_result"
    }
   ],
   "source": [
    "file = open('variablz_new.txt', 'a')\n",
    "file.write('''\n",
    "hi\n",
    "i am that new variablz file\n",
    "if file doesn't exist, i create a new file\n",
    "''')\n"
   ]
  },
  {
   "cell_type": "code",
   "execution_count": 37,
   "metadata": {},
   "outputs": [],
   "source": [
    "file = open('students.csv', 'a')\n",
    "file.write('''\n",
    "4, r program, 30, 6000\n",
    "5, julia,30, 6000\n",
    "6, rust,30, 6000\n",
    "''')\n",
    "file.close()"
   ]
  },
  {
   "cell_type": "code",
   "execution_count": 38,
   "metadata": {},
   "outputs": [
    {
     "name": "stdout",
     "output_type": "stream",
     "text": [
      "\n",
      "hi\n",
      "i am that new variablz file\n",
      "this is writing example..\n",
      "\n"
     ]
    },
    {
     "data": {
      "text/plain": [
       "<function TextIOWrapper.close()>"
      ]
     },
     "execution_count": 38,
     "metadata": {},
     "output_type": "execute_result"
    }
   ],
   "source": [
    "file = open('variablz.txt',mode='r',)\n",
    "contents = file.read()\n",
    "print(contents)\n",
    "file.close\n"
   ]
  },
  {
   "cell_type": "code",
   "execution_count": 40,
   "metadata": {},
   "outputs": [
    {
     "name": "stdout",
     "output_type": "stream",
     "text": [
      "\n",
      "\n"
     ]
    }
   ],
   "source": [
    "file = open('variablz.txt', mode='r',)\n",
    "contents = file.readline()\n",
    "print(contents)\n",
    "file.close()"
   ]
  },
  {
   "cell_type": "code",
   "execution_count": 41,
   "metadata": {},
   "outputs": [
    {
     "data": {
      "text/plain": [
       "['\\n', 'hi\\n', 'i am that new variablz file\\n', 'this is writing example..\\n']"
      ]
     },
     "execution_count": 41,
     "metadata": {},
     "output_type": "execute_result"
    }
   ],
   "source": [
    "file = open('variablz.txt', mode='r',)\n",
    "contents = file.readlines()\n",
    "file.close()\n",
    "contents"
   ]
  },
  {
   "cell_type": "code",
   "execution_count": 42,
   "metadata": {},
   "outputs": [],
   "source": [
    "file_name = 'variablz.txt'"
   ]
  },
  {
   "cell_type": "code",
   "execution_count": 43,
   "metadata": {},
   "outputs": [],
   "source": [
    "with open(file_name, 'w') as file:\n",
    "    file.write('this file written by context manager')"
   ]
  },
  {
   "cell_type": "code",
   "execution_count": 44,
   "metadata": {},
   "outputs": [],
   "source": [
    "import os"
   ]
  },
  {
   "cell_type": "code",
   "execution_count": 45,
   "metadata": {},
   "outputs": [
    {
     "name": "stdout",
     "output_type": "stream",
     "text": [
      "file exist\n"
     ]
    }
   ],
   "source": [
    "if os.path.exists(\"variablz.txt\"):\n",
    "    print('file exist')\n",
    "else:\n",
    "    print(\"the file does not exist\")"
   ]
  },
  {
   "cell_type": "code",
   "execution_count": 46,
   "metadata": {},
   "outputs": [],
   "source": [
    "import os"
   ]
  },
  {
   "cell_type": "code",
   "execution_count": 47,
   "metadata": {},
   "outputs": [
    {
     "name": "stdout",
     "output_type": "stream",
     "text": [
      "file deleted successfully\n"
     ]
    }
   ],
   "source": [
    "if os.path.exists(\"variablz.txt\"):\n",
    "    os.remove('variablz.txt')\n",
    "    print('file deleted successfully')\n",
    "else:\n",
    "    print(\"the file does not exist\")"
   ]
  },
  {
   "cell_type": "code",
   "execution_count": 1,
   "metadata": {},
   "outputs": [
    {
     "name": "stdout",
     "output_type": "stream",
     "text": [
      "2000\n"
     ]
    }
   ],
   "source": [
    "length = 50\n",
    "width = 40\n",
    "area = length * width\n",
    "print(area)"
   ]
  },
  {
   "cell_type": "code",
   "execution_count": 2,
   "metadata": {},
   "outputs": [
    {
     "name": "stdout",
     "output_type": "stream",
     "text": [
      "2000\n"
     ]
    }
   ],
   "source": [
    "length = 50\n",
    "width = 40\n",
    "area = length * width\n",
    "print(area)"
   ]
  },
  {
   "cell_type": "code",
   "execution_count": 3,
   "metadata": {},
   "outputs": [],
   "source": [
    "def calculate_area():\n",
    "    length = 50\n",
    "    width = 40\n",
    "    area = length * width\n",
    "    print(area)"
   ]
  },
  {
   "cell_type": "code",
   "execution_count": 4,
   "metadata": {},
   "outputs": [
    {
     "name": "stdout",
     "output_type": "stream",
     "text": [
      "2000\n",
      "2000\n",
      "2000\n"
     ]
    }
   ],
   "source": [
    "calculate_area()\n",
    "calculate_area()\n",
    "calculate_area()\n"
   ]
  },
  {
   "cell_type": "code",
   "execution_count": 5,
   "metadata": {},
   "outputs": [
    {
     "name": "stdout",
     "output_type": "stream",
     "text": [
      "2000\n",
      "3000\n",
      "4500\n"
     ]
    }
   ],
   "source": [
    "length = 50\n",
    "width = 40\n",
    "area_01 = length * width\n",
    "print(area_01)\n",
    "\n",
    "length = 100\n",
    "width = 30\n",
    "area_02 = length * width\n",
    "print(area_02)\n",
    "\n",
    "length = 50\n",
    "width = 90\n",
    "area_03 = length * width\n",
    "print(area_03)"
   ]
  },
  {
   "cell_type": "code",
   "execution_count": 6,
   "metadata": {},
   "outputs": [],
   "source": [
    "def calculate_area(length, width):\n",
    "    area = length * width\n",
    "    print(area)"
   ]
  },
  {
   "cell_type": "code",
   "execution_count": 7,
   "metadata": {},
   "outputs": [
    {
     "name": "stdout",
     "output_type": "stream",
     "text": [
      "2000\n",
      "3000\n",
      "4500\n"
     ]
    }
   ],
   "source": [
    "calculate_area(50, 40)\n",
    "calculate_area(100, 30)\n",
    "calculate_area(50, 90)"
   ]
  },
  {
   "cell_type": "code",
   "execution_count": 8,
   "metadata": {},
   "outputs": [],
   "source": [
    "def calculate_area(length, width):\n",
    "    area = length * width\n",
    "    return area"
   ]
  },
  {
   "cell_type": "code",
   "execution_count": 9,
   "metadata": {},
   "outputs": [
    {
     "data": {
      "text/plain": [
       "5000"
      ]
     },
     "execution_count": 9,
     "metadata": {},
     "output_type": "execute_result"
    }
   ],
   "source": [
    "area01 = calculate_area(50, 40)\n",
    "area02 = calculate_area(100, 30)\n",
    "total_area = area01 + area02\n",
    "total_area"
   ]
  },
  {
   "cell_type": "code",
   "execution_count": 12,
   "metadata": {},
   "outputs": [],
   "source": [
    "def add_user(Name, mailID, phoneNumber, age = 16):\n",
    "    user = {\n",
    "        'firstName':Name,\n",
    "        'mailID':mailID,\n",
    "        'phoneNumber':phoneNumber,\n",
    "        'age':age\n",
    "    }\n",
    "    return user"
   ]
  },
  {
   "cell_type": "code",
   "execution_count": 13,
   "metadata": {},
   "outputs": [
    {
     "data": {
      "text/plain": [
       "{'firstName': 'parthiban',\n",
       " 'mailID': 'parthiban@gmail.com',\n",
       " 'phoneNumber': '4933304679',\n",
       " 'age': 16}"
      ]
     },
     "execution_count": 13,
     "metadata": {},
     "output_type": "execute_result"
    }
   ],
   "source": [
    "add_user('parthiban', 'parthiban@gmail.com', '4933304679')\n"
   ]
  },
  {
   "cell_type": "code",
   "execution_count": 14,
   "metadata": {},
   "outputs": [
    {
     "data": {
      "text/plain": [
       "{'firstName': 'parthiban',\n",
       " 'mailID': 'parthiban@gmail.com',\n",
       " 'phoneNumber': '8821365997',\n",
       " 'age': 16}"
      ]
     },
     "execution_count": 14,
     "metadata": {},
     "output_type": "execute_result"
    }
   ],
   "source": [
    "add_user('parthiban', 'parthiban@gmail.com', '8821365997')"
   ]
  },
  {
   "cell_type": "code",
   "execution_count": 16,
   "metadata": {},
   "outputs": [],
   "source": [
    "def add_user(Name, mailID, phoneNumber, age = 16, city = 'cuddalore'):\n",
    "    user = {\n",
    "        'firstName':Name,\n",
    "        'mailID':mailID,\n",
    "        'phoneNumber':phoneNumber,\n",
    "        'age': age,\n",
    "        'city':city\n",
    "\n",
    "    }\n",
    "    return user"
   ]
  },
  {
   "cell_type": "code",
   "execution_count": 17,
   "metadata": {},
   "outputs": [
    {
     "data": {
      "text/plain": [
       "{'firstName': 'parthiban',\n",
       " 'mailID': 'parthiban@gmail.com',\n",
       " 'phoneNumber': '6674599220',\n",
       " 'age': 16,\n",
       " 'city': 'pondicherry'}"
      ]
     },
     "execution_count": 17,
     "metadata": {},
     "output_type": "execute_result"
    }
   ],
   "source": [
    "add_user('parthiban', 'parthiban@gmail.com', '6674599220',\n",
    "         city = 'pondicherry')"
   ]
  },
  {
   "cell_type": "code",
   "execution_count": 18,
   "metadata": {},
   "outputs": [
    {
     "data": {
      "text/plain": [
       "{'firstName': 'parthiban',\n",
       " 'mailID': 'parthiban@gmail.com',\n",
       " 'phoneNumber': '6678453660',\n",
       " 'age': 23,\n",
       " 'city': 'pondicherry'}"
      ]
     },
     "execution_count": 18,
     "metadata": {},
     "output_type": "execute_result"
    }
   ],
   "source": [
    "add_user('parthiban', 'parthiban@gmail.com', '6678453660',\n",
    "         city = 'pondicherry', age = 23)"
   ]
  },
  {
   "cell_type": "code",
   "execution_count": 19,
   "metadata": {},
   "outputs": [],
   "source": [
    "def order_food(*items):\n",
    "    cart = []\n",
    "    for item in items:\n",
    "        cart.append(item)\n",
    "    return cart"
   ]
  },
  {
   "cell_type": "code",
   "execution_count": 20,
   "metadata": {},
   "outputs": [
    {
     "name": "stdout",
     "output_type": "stream",
     "text": [
      "['chilly chikken', 'garlic chicken', 'butter rotti', 'goli soda']\n"
     ]
    }
   ],
   "source": [
    "lunch = order_food('chilly chikken', 'garlic chicken',\n",
    "                   'butter rotti', 'goli soda')\n",
    "print(lunch)"
   ]
  },
  {
   "cell_type": "code",
   "execution_count": 21,
   "metadata": {},
   "outputs": [],
   "source": [
    "def sum_all_number(*numbers):\n",
    "    total = sum(numbers)\n",
    "    return total"
   ]
  },
  {
   "cell_type": "code",
   "execution_count": 27,
   "metadata": {},
   "outputs": [],
   "source": [
    "def calculate_area(length, heigth):\n",
    "    \"\"\"\n",
    "    to calculate the rectangle area:\n",
    "    calculate_area(length of rectangle, height of rectangle)\n",
    "    \"\"\"\n",
    "    rectangle_area = length * heigth\n",
    "    return rectangle_area"
   ]
  },
  {
   "cell_type": "code",
   "execution_count": 28,
   "metadata": {},
   "outputs": [
    {
     "name": "stdout",
     "output_type": "stream",
     "text": [
      "Help on function calculate_area in module __main__:\n",
      "\n",
      "calculate_area(length, heigth)\n",
      "    to calculate the rectangle area:\n",
      "    calculate_area(length of rectangle, height of rectangle)\n",
      "\n"
     ]
    }
   ],
   "source": [
    "help(calculate_area)"
   ]
  },
  {
   "cell_type": "code",
   "execution_count": null,
   "metadata": {},
   "outputs": [],
   "source": [
    "import math\n",
    "def cir"
   ]
  }
 ],
 "metadata": {
  "kernelspec": {
   "display_name": ".venv",
   "language": "python",
   "name": "python3"
  },
  "language_info": {
   "codemirror_mode": {
    "name": "ipython",
    "version": 3
   },
   "file_extension": ".py",
   "mimetype": "text/x-python",
   "name": "python",
   "nbconvert_exporter": "python",
   "pygments_lexer": "ipython3",
   "version": "3.10.12"
  }
 },
 "nbformat": 4,
 "nbformat_minor": 2
}
